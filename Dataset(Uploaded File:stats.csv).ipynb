{
  "nbformat": 4,
  "nbformat_minor": 0,
  "metadata": {
    "colab": {
      "provenance": [],
      "authorship_tag": "ABX9TyP8MHPNfQZx1qFq6fyuulV0",
      "include_colab_link": true
    },
    "kernelspec": {
      "name": "python3",
      "display_name": "Python 3"
    },
    "language_info": {
      "name": "python"
    }
  },
  "cells": [
    {
      "cell_type": "markdown",
      "metadata": {
        "id": "view-in-github",
        "colab_type": "text"
      },
      "source": [
        "<a href=\"https://colab.research.google.com/github/onecreativenoob/pythonprojects/blob/main/Dataset(Uploaded%20File%3Astats.csv).ipynb\" target=\"_parent\"><img src=\"https://colab.research.google.com/assets/colab-badge.svg\" alt=\"Open In Colab\"/></a>"
      ]
    },
    {
      "cell_type": "code",
      "execution_count": 3,
      "metadata": {
        "id": "pjWcwq03la3D"
      },
      "outputs": [],
      "source": [
        "import matplotlib.pyplot as plt\n",
        "import numpy as np\n",
        "import pandas as pd"
      ]
    },
    {
      "cell_type": "code",
      "source": [
        "df = pd.read_csv('stats.csv')\n",
        "print(df.to_string())"
      ],
      "metadata": {
        "id": "hbR6fkJmloNo"
      },
      "execution_count": null,
      "outputs": []
    },
    {
      "cell_type": "code",
      "source": [
        "team_list = df[\"team\"]\n",
        "win_list = df[\"wins\"]\n",
        "\n",
        "plt.scatter(team_list,win_list,c='b')\n",
        "plt.xlabel(\"Team\")\n",
        "plt.ylabel(\"Wins\")\n",
        "plt.title(\"Stats\")\n",
        "plt.text(0.2,0.4,'Stats')\n"
      ],
      "metadata": {
        "id": "-QhB-Sa8mQGG"
      },
      "execution_count": null,
      "outputs": []
    },
    {
      "cell_type": "code",
      "source": [
        "plt.plot(team_list,win_list,'y*',linestyle='dashed',linewidth=2, markersize=12)\n",
        "plt.xlabel('Team')\n",
        "plt.ylabel('Wins')\n",
        "plt.title('Stats')"
      ],
      "metadata": {
        "id": "alA2hDnEny9g"
      },
      "execution_count": null,
      "outputs": []
    },
    {
      "cell_type": "code",
      "source": [
        "plt.subplot(2,2,1)\n",
        "plt.plot(team_list,win_list,'r--')\n",
        "plt.subplot(2,2,2)\n",
        "plt.plot(team_list,win_list,'g*--')\n",
        "plt.subplot(2,2,3)\n",
        "plt.plot(team_list,win_list,'bo')\n",
        "plt.subplot(2,2,4)\n",
        "plt.plot(team_list,win_list,'g--')"
      ],
      "metadata": {
        "id": "cnua9vEmmt1X"
      },
      "execution_count": null,
      "outputs": []
    },
    {
      "cell_type": "code",
      "source": [
        "red_cards = df[\"total_red_card\"]\n",
        "\n",
        "plt.title(\"Red Card Stats\")\n",
        "plt.xlabel(\"Team\")\n",
        "plt.ylabel(\"Total Red Cards\")\n",
        "plt.plot(team_list,red_cards)"
      ],
      "metadata": {
        "id": "eHds_aPuoVjy"
      },
      "execution_count": null,
      "outputs": []
    },
    {
      "cell_type": "code",
      "source": [
        "x = np.arange(df[0,2], df[0,1])\n",
        "y = np.sin(x)\n",
        "plt.title(\"sine wave form\")\n",
        "\n",
        "plt.plot(x, y)"
      ],
      "metadata": {
        "id": "ahteq626ovap"
      },
      "execution_count": null,
      "outputs": []
    },
    {
      "cell_type": "code",
      "source": [
        "plt.bar(team_list, win_list)\n",
        "plt.bar(red_cards, df[\"total_yel_card\"], color = 'g')\n",
        "plt.title('Bar graph')\n",
        "plt.ylabel('wins')\n",
        "plt.xlabel('Teams')\n",
        "\n",
        "plt.show()"
      ],
      "metadata": {
        "id": "Xc2k_Hvpo_II"
      },
      "execution_count": null,
      "outputs": []
    },
    {
      "cell_type": "code",
      "source": [
        "plt.hist(red_cards ,bins = 10)\n",
        "plt.title(\"Red Cards\")\n",
        "plt.show()"
      ],
      "metadata": {
        "id": "Y1KqqCTY0xnU"
      },
      "execution_count": null,
      "outputs": []
    }
  ]
}